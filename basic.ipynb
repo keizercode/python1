{
 "cells": [
  {
   "cell_type": "code",
   "execution_count": 6,
   "id": "1a5d6710",
   "metadata": {},
   "outputs": [
    {
     "name": "stdout",
     "output_type": "stream",
     "text": [
      "🎮 Selamat datang di Game Tebak Huruf 🎮\n",
      "1. Versus Komputer\n",
      "2. Versus Player 2\n",
      "\n",
      "[Mode VS Player 2] Player 2 silakan input huruf rahasia (huruf A-Z):\n",
      "❌ Huruf tidak valid. Masukkan satu huruf dari A sampai Z.\n",
      "✅ Huruf rahasia disimpan! Sekarang giliran Player 1 menebak.\n",
      "📈 Huruf terlalu besar.\n",
      "Tebakan sejauh ini: U | Sisa kesempatan: 2\n",
      "📉 Huruf terlalu kecil.\n",
      "Tebakan sejauh ini: U, I | Sisa kesempatan: 1\n",
      "📈 Huruf terlalu besar.\n",
      "Tebakan sejauh ini: U, I, O | Sisa kesempatan: 0\n",
      "\n",
      "💀 Game Over! Huruf rahasianya adalah: K\n",
      "Semua tebakan kamu: U, I, O\n"
     ]
    }
   ],
   "source": [
    "import random\n",
    "import string\n",
    "import getpass  # untuk input rahasia di mode Player 2\n",
    "\n",
    "def is_valid_guess(guess):\n",
    "    return len(guess) == 1 and guess in string.ascii_uppercase\n",
    "\n",
    "print(\"🎮 Selamat datang di Game Tebak Huruf 🎮\")\n",
    "print(\"1. Versus Komputer\")\n",
    "print(\"2. Versus Player 2\")\n",
    "\n",
    "mode = input(\"Pilih mode (1/2): \").strip()\n",
    "\n",
    "attempts = 3\n",
    "history = []\n",
    "\n",
    "if mode == \"1\":\n",
    "    # MODE 1 - Komputer pilih huruf rahasia\n",
    "    secret_alphabet = random.choice(string.ascii_uppercase)\n",
    "    print(\"\\n[Mode VS Komputer] Tebak huruf dari A sampai Z\")\n",
    "elif mode == \"2\":\n",
    "    # MODE 2 - Player 2 masukkan huruf rahasia\n",
    "    print(\"\\n[Mode VS Player 2] Player 2 silakan input huruf rahasia (huruf A-Z):\")\n",
    "    while True:\n",
    "        secret_input = getpass.getpass(\"Masukkan huruf rahasia (disembunyikan): \").upper()\n",
    "        if is_valid_guess(secret_input):\n",
    "            secret_alphabet = secret_input\n",
    "            print(\"✅ Huruf rahasia disimpan! Sekarang giliran Player 1 menebak.\")\n",
    "            break\n",
    "        else:\n",
    "            print(\"❌ Huruf tidak valid. Masukkan satu huruf dari A sampai Z.\")\n",
    "else:\n",
    "    print(\"❌ Mode tidak valid.\")\n",
    "    exit()\n",
    "\n",
    "# --- Mulai permainan ---\n",
    "while attempts > 0:\n",
    "    guess = input(\"Tebak huruf: \").upper()\n",
    "\n",
    "    if not is_valid_guess(guess):\n",
    "        print(\"❌ Input tidak valid! Masukkan 1 huruf A-Z.\")\n",
    "        continue\n",
    "\n",
    "    history.append(guess)\n",
    "\n",
    "    if guess == secret_alphabet:\n",
    "        print(\"🎉 Congratsss! Kamu berhasil menebak hurufnya!\")\n",
    "        break\n",
    "    elif guess > secret_alphabet:\n",
    "        print(\"📈 Huruf terlalu besar.\")\n",
    "    else:\n",
    "        print(\"📉 Huruf terlalu kecil.\")\n",
    "\n",
    "    attempts -= 1\n",
    "    print(f\"Tebakan sejauh ini: {', '.join(history)} | Sisa kesempatan: {attempts}\")\n",
    "\n",
    "else:\n",
    "    print(f\"\\n💀 Game Over! Huruf rahasianya adalah: {secret_alphabet}\")\n",
    "    print(f\"Semua tebakan kamu: {', '.join(history)}\")\n"
   ]
  }
 ],
 "metadata": {
  "kernelspec": {
   "display_name": "Python 3",
   "language": "python",
   "name": "python3"
  },
  "language_info": {
   "codemirror_mode": {
    "name": "ipython",
    "version": 3
   },
   "file_extension": ".py",
   "mimetype": "text/x-python",
   "name": "python",
   "nbconvert_exporter": "python",
   "pygments_lexer": "ipython3",
   "version": "3.13.5"
  }
 },
 "nbformat": 4,
 "nbformat_minor": 5
}
